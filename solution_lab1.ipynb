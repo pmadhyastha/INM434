{
  "nbformat": 4,
  "nbformat_minor": 0,
  "metadata": {
    "colab": {
      "provenance": [],
      "authorship_tag": "ABX9TyPKyLBR6oakF16dcu45Zksq",
      "include_colab_link": true
    },
    "kernelspec": {
      "name": "python3",
      "display_name": "Python 3"
    },
    "language_info": {
      "name": "python"
    }
  },
  "cells": [
    {
      "cell_type": "markdown",
      "metadata": {
        "id": "view-in-github",
        "colab_type": "text"
      },
      "source": [
        "<a href=\"https://colab.research.google.com/github/pmadhyastha/INM434/blob/main/solution_lab1.ipynb\" target=\"_parent\"><img src=\"https://colab.research.google.com/assets/colab-badge.svg\" alt=\"Open In Colab\"/></a>"
      ]
    },
    {
      "cell_type": "markdown",
      "source": [
        "## One possible solution for FST transitions for \"leaves\"\n",
        "\n",
        "Leaves has two possible realisations here. "
      ],
      "metadata": {
        "id": "NKvDl9PykbiS"
      }
    },
    {
      "cell_type": "code",
      "execution_count": null,
      "metadata": {
        "id": "vWh6L6HXmRgU"
      },
      "outputs": [],
      "source": [
        "# Define the FST transitions\n",
        "transitions = [\n",
        "    {\n",
        "        (0, 'l', 1, 'l', 'L'),\n",
        "        (1, 'e', 2, 'e', 'E'),\n",
        "        (2, 'a', 3, 'a', 'A'),\n",
        "        (3, 'v', 4, 'v', 'V'),\n",
        "        (4, 'e', 5, 'e', 'E'),\n",
        "        (5, 's', 6, 's', ' VERB +3rd Person and Present Tense (S)'),\n",
        "    },\n",
        "    {\n",
        "        (0, 'l', 1, 'l', 'L'),\n",
        "        (1, 'e', 2, 'e', 'E'),\n",
        "        (2, 'a', 3, 'a', 'A'),\n",
        "        (3, 'v', 4, 'v', 'F'),\n",
        "        (4, 'e', 5, 'e', ''),  \n",
        "        (5, 's', 6, 's', ' NOUN +Plural (S)'),\n",
        "    }\n",
        "]\n",
        "\n",
        "# Define the initial state\n",
        "initial_state = 0\n",
        "\n",
        "def morphological_analyzer(word):\n",
        "    # Initialize the current state and outputs list\n",
        "    current_state = initial_state\n",
        "    outputs = []\n",
        "    \n",
        "    # Iterate over each transition set\n",
        "    for transition_set in transitions:\n",
        "        # Initialize the current state and output\n",
        "        current_state = initial_state\n",
        "        output = \"\"\n",
        "        \n",
        "        # Iterate over each character in the word\n",
        "        for char in word:\n",
        "            # Check if a transition exists for the current state and character\n",
        "            for start_state, in_char, end_state, out_char, out_string in transition_set:\n",
        "                if current_state == start_state and char == in_char:\n",
        "                    current_state = end_state\n",
        "                    output += out_string\n",
        "                    break\n",
        "        \n",
        "        # Add the output to the outputs list if the final state is an accepting state\n",
        "        outputs.append(output)\n",
        "    \n",
        "    # Return the outputs list\n",
        "    return outputs\n",
        "\n",
        "# Morphological analyser for leaves \n",
        "word = \"leaves\"\n",
        "outputs = morphological_analyzer(word)\n",
        "for output in outputs:\n",
        "    if output:\n",
        "        print(\"The morphological analysis of '{}' is '{}'\".format(word, output))\n",
        "    else:\n",
        "        print(\"No morphological analysis found for '{}'\".format(word))\n"
      ]
    },
    {
      "cell_type": "markdown",
      "source": [],
      "metadata": {
        "id": "bgl0_ET4kHhW"
      }
    }
  ]
}